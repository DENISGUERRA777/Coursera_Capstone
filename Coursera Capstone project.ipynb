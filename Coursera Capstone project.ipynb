{
 "cells": [
  {
   "cell_type": "markdown",
   "id": "5449f0f5-2b27-4b57-ade2-46269b86f077",
   "metadata": {},
   "source": [
    "<h1 align=center><font size = 5>IBM Data Science Professional Certification - Coursera Capstone project</font></h1>\n"
   ]
  },
  {
   "cell_type": "markdown",
   "id": "893d0c44-23ce-4641-9b28-362c7825db37",
   "metadata": {},
   "source": [
    "<h1 align=center><font size = 4>Este cuaderno servira como base para cosntruir el proyecto fina de la certificacion </font></h1>\n"
   ]
  },
  {
   "cell_type": "code",
   "execution_count": 1,
   "id": "dcd671ab-6496-42b5-adf3-2de2a8356fd6",
   "metadata": {},
   "outputs": [],
   "source": [
    "import numpy as np\n",
    "import pandas as pd"
   ]
  },
  {
   "cell_type": "code",
   "execution_count": 2,
   "id": "8fcb8615-2533-488b-a064-4bcf0498ab15",
   "metadata": {},
   "outputs": [
    {
     "name": "stdout",
     "output_type": "stream",
     "text": [
      "Hello Capstone Project Course\n"
     ]
    }
   ],
   "source": [
    "print(\"Hello Capstone Project Course\")\n"
   ]
  },
  {
   "cell_type": "code",
   "execution_count": null,
   "id": "d790fdcf-0462-473b-bfaa-f8432008f206",
   "metadata": {},
   "outputs": [],
   "source": []
  }
 ],
 "metadata": {
  "kernelspec": {
   "display_name": "Python",
   "language": "python",
   "name": "conda-env-python-py"
  },
  "language_info": {
   "codemirror_mode": {
    "name": "ipython",
    "version": 3
   },
   "file_extension": ".py",
   "mimetype": "text/x-python",
   "name": "python",
   "nbconvert_exporter": "python",
   "pygments_lexer": "ipython3",
   "version": "3.7.12"
  }
 },
 "nbformat": 4,
 "nbformat_minor": 5
}
