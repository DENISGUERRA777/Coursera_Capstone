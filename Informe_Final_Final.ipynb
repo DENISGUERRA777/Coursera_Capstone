{
 "cells": [
  {
   "cell_type": "markdown",
   "id": "1a9cb228-96f2-4627-b907-49e04f3aceae",
   "metadata": {},
   "source": [
    "<h1 align=center><font size = 5>Segmentacion y Agrupacion de Municipios del AMSS</font></h1>\n"
   ]
  },
  {
   "cell_type": "markdown",
   "id": "9c8e0052-7998-4379-8c73-49b8350a4e9a",
   "metadata": {},
   "source": [
    "## Introduccion"
   ]
  },
  {
   "cell_type": "markdown",
   "id": "4e01eb1c-cbff-4382-8f30-1e3be88a51a2",
   "metadata": {},
   "source": [
    "### Seccion I: Analisis del problema y antecedentes\n"
   ]
  },
  {
   "cell_type": "markdown",
   "id": "0ba33b9a-4379-4251-84d6-ab0e7aa9049b",
   "metadata": {},
   "source": [
    "Descripción del problema y antecedentes:\n",
    "El área metropolitana de San Salvador, capital de El Salvador, es una zona altamente poblada y compleja desde el punto de vista social, económico y geográfico. En esta área conviven 14 municipios con características y necesidades distintas, lo que dificulta la toma de decisiones por parte de las autoridades y la identificación de problemáticas comunes.\n",
    "\n",
    "En este contexto, el objetivo de este proyecto es agrupar y segmentar los municipios del área metropolitana de San Salvador con el fin de identificar patrones y tendencias relevantes que permitan mejorar la comprensión de la dinámica de la zona y la toma de decisiones.\n",
    "\n",
    "En términos de antecedentes, existen diversos trabajos previos relacionados con la agrupación y segmentación de municipios en otras partes del mundo. Por ejemplo, en México se ha utilizado el análisis de conglomerados para identificar grupos de municipios con características similares en términos de indicadores socioeconómicos y de salud. En Colombia se ha utilizado el análisis de componentes principales para identificar factores clave que explican la variabilidad entre los municipios en términos de desarrollo humano."
   ]
  },
  {
   "cell_type": "markdown",
   "id": "a8bf70be-1b46-42de-b81b-3b67daa6943d",
   "metadata": {},
   "source": [
    "### seccion II: Descripción de los datos y su uso en el proyecto"
   ]
  },
  {
   "cell_type": "markdown",
   "id": "4e053f88-33d3-45a1-aad9-41ea2ba62c96",
   "metadata": {},
   "source": [
    "Los datos utilizados en este proyecto provienen de diversas fuentes, como datos geograficos de la api de FOURSQUARE, entre otras. Estos datos incluyen variables como locales comerciales, centros turisticos, el nivel socioeconómico, la oferta de servicios públicos, entre otras.\n",
    "\n",
    "Para utilizar estos datos en el proyecto, se realizará un proceso de limpieza y procesamiento para asegurar su calidad y consistencia. Luego, se aplicarán técnicas de minería de datos y aprendizaje automático para identificar patrones y tendencias entre los municipios y agruparlos en función de variables relevantes.\n",
    "\n",
    "Los resultados obtenidos permitirán a los tomadores de decisiones tener una mejor comprensión de la dinámica del área metropolitana de San Salvador y tomar decisiones más informadas en cuanto a la asignación de recursos y políticas públicas."
   ]
  },
  {
   "cell_type": "markdown",
   "id": "42c66c1b-000c-486e-bc1a-51dee13d0197",
   "metadata": {},
   "source": [
    "<img src=\"Captura de pantalla 2023-04-26 185150.png\">"
   ]
  },
  {
   "cell_type": "markdown",
   "id": "f1989cde-2041-4cea-8abd-74bfc625f276",
   "metadata": {},
   "source": [
    "## Metodologia"
   ]
  },
  {
   "cell_type": "markdown",
   "id": "410e1c4c-33ce-4e90-9012-7f07bc917c56",
   "metadata": {},
   "source": [
    "#### Enfoque analitico:"
   ]
  },
  {
   "cell_type": "markdown",
   "id": "20e9790c-3157-4f36-bd73-279a7d46d4c0",
   "metadata": {},
   "source": [
    "Para este proyecto utilizamos un algoritmo de clustering k-meanspara agrupar los municipios en funcion de la cantidad de lugares de diferentes categorias que hay dentro de ellos, esto nos podria dar pautas de que centros urbanos son economicamente mas activos, cuales de ellos estan mas densamente poblados o que municipio es mejor para montar un negocio formal"
   ]
  },
  {
   "cell_type": "markdown",
   "id": "0c88adea-ccdf-4503-85b4-95cd2eb36ed3",
   "metadata": {},
   "source": [
    "#### Requerimientos de los datos:"
   ]
  },
  {
   "cell_type": "markdown",
   "id": "fa556994-afbc-4bd2-83cc-3c787dd83bf0",
   "metadata": {},
   "source": [
    "Los datos que se requirieron fueron los nombres de los 14 municipios que conforman el area del Gran Saan Salvador como sus coordenadas geograficas que fueron tomadas de la api de Nominatim y los lugares alrededor de cada centro urbano(municio), asi como sus coordenadas geograficas que se tomaron de la api  de Foursquare "
   ]
  },
  {
   "cell_type": "markdown",
   "id": "7c504cd0-e8ec-44e8-9d03-8ec8cdbc1e10",
   "metadata": {},
   "source": [
    "#### Recoleccion de los datos:"
   ]
  },
  {
   "cell_type": "markdown",
   "id": "3bee6c24-b922-4cfd-b475-71d9245d814a",
   "metadata": {},
   "source": [
    "Para recolectar los datos, primero se tomo como base el siguiente articulo : https://es.wikipedia.org/wiki/%C3%81rea_metropolitana_de_San_Salvador del cual se extrajo la tabal de los municipios luego se pasaron a un dataframe para luego utilizando este dataframe se utilizo la libreria de geopy para encontrar sus coordenadas geograficas en Nominatim, depues de esto se procedio a hacer un llamado a la api de Foursquare con esa informacion para obtener los lugares cercanos a esas coordenadas y tod eso se paso a un dataframe "
   ]
  },
  {
   "cell_type": "markdown",
   "id": "ef6dbb79-0f26-42ee-b52b-1ec126efd3e4",
   "metadata": {},
   "source": [
    "#### comprension de los datos y preparacion:"
   ]
  },
  {
   "cell_type": "markdown",
   "id": "e0316ac3-8611-4fcb-bc60-5316524cc141",
   "metadata": {},
   "source": [
    "Primero ya con los datos en bruto obtenidos se procedio a limpiarlos y depurarlos despues, se vizualisaron las categorias mas comunes de los lugares y se saco los lugares mas comunes "
   ]
  },
  {
   "cell_type": "markdown",
   "id": "8ea89197-f904-48c3-be2a-9a5f2d049e52",
   "metadata": {},
   "source": [
    "#### Modelado y evaluacion: "
   ]
  },
  {
   "cell_type": "markdown",
   "id": "2c4d5bbd-46b9-4480-9d5b-4dc339c9dc81",
   "metadata": {},
   "source": [
    "K-means es un tipo de agrupación de particiones. Es decir, divide los datos en k subconjuntos o clústeres no superpuestos sin ninguna estructura interna de clúster o etiquetas. Esto significa que es un algoritmo no supervisado. Los objetos dentro de un clúster son muy similares, y los objetos a través de diferentes clústeres son muy diferentes o diferentes. \n",
    "Se agruparon los municipos en tres cluster en funcion de la cantidad y categoria de los lugares a sus alrededores, maximizando la distancia entre los cluster y minimizando el area entre lso componentes de cada cluster"
   ]
  },
  {
   "cell_type": "markdown",
   "id": "c753452d-856e-4997-8c8e-e6c3d12776cb",
   "metadata": {},
   "source": [
    "## Resultados"
   ]
  },
  {
   "cell_type": "markdown",
   "id": "c67dcbf3-4720-4e0a-b15f-8994bee9526b",
   "metadata": {},
   "source": [
    "Se agruparon los municipios en funcion de las categorias de los lugares a sus alrededores (en un area de 1000 metrso a la redonde del centro geografico de cada municipio) se repartio los municipios en tres clusters usando el algoritmo de aprendisaje no supervizado de k-means y se obtuvo que en el cluster 0 predominna los restaurantes,cafes, supermercados y bares, tambien se noto que algunos de estos municipios pertenecientes a este cluster son de los mas poblados de el area del gran San Salvador; en el cluster 1 se encontro que los negocios que predominan en su mayoria son restaurantes de comida tipica o comida \"Latinoamericana\", pero tambien se encontro que en estos municipios tambien hay espacios al aire libre esto se podria deber a que en este cluster se encuentran municipios que estan en las afueras de la gran ciudad; en el cluster 2 se encontro solaente un municipio Ilopango, cabe recalcar que en este municipio se encuentra un areopuerto y esta en la rivera de un lago  la principal categoria de lugares que se encuentra en ete cluster son restaurantes"
   ]
  },
  {
   "cell_type": "markdown",
   "id": "775bd7cd-d14f-405b-872f-6c10914caaae",
   "metadata": {},
   "source": [
    "<img src=\"Captura de pantalla 2023-04-26 194922.png\">"
   ]
  },
  {
   "cell_type": "markdown",
   "id": "40a631c7-a501-4e6a-b810-c67b9c13cd4d",
   "metadata": {},
   "source": [
    "Luego se agruparon los municipios en funcion de su poblacion y se encontro que los municipios mas poblados(Soyapango y San Salvador) estan en el centro de la actividad economica de  area y estos representan al cluster1, el siguiente cluster representa a los municipios que le siguen en poblacion a estos dos y son cinco (Mejicanos, Apopa, Santa Tecla, Ciudad Delgado e Ilopango) algunos de estos son de los mas activos economicamente; en el siguiente cluster (cluster2) estan los municipios con menos poblacion (Tonacatepeque, San Martin, Cuscatancingo, San Marcos, Ayutuxtepeque, Antiguo Cuscatlan y Nejapa), la mayoria de estos municipios se encuentran en la periferia de la ciudad y como dato a dicional Antiguo Cuscatlan es el municipio con el PIB mas alto del pais "
   ]
  },
  {
   "cell_type": "markdown",
   "id": "938ebf9b-b749-4404-a0f2-377971e2d202",
   "metadata": {},
   "source": [
    "<img src=\"Captura de pantalla 2023-04-26 185853.png\"><img src=\"Captura de pantalla 2023-04-26 200652.png\">"
   ]
  },
  {
   "cell_type": "markdown",
   "id": "9d4fb51f-cd86-46e0-99ef-fe3d6face6a9",
   "metadata": {},
   "source": [
    "Por ultimo tambien utiizando el mismo algoritmo de k-means agrupamos esta vez no los municipios si no que los lugares encontrados con la Api de Foursquare,en funcion de la cercania de los lugares a los centroides generados por el algoritmo de k-means; en total se agruparon 4800 lugares en los 14 municipios y se encontro que la mayoria de estos lugares se encuentran concnetrados en area mas centrica del Gran San Salvador, tambien que este cluster (morado) agrupa los comercios de la gran mayoria de los municipios por lo cual podria decirce que el area (cluster) moada es el area donde mas se comercia de la capital salvadoreña; el cluster verde que conforman el area mas al norte del departamento y tambien es el area mas rural de esta region; y el cluster rojo conformado por Santa Tecla y Antiguo Cuscatlan que se encuentra al sur y ya en el territorio de la libertad"
   ]
  },
  {
   "cell_type": "markdown",
   "id": "afcde668-574b-4bde-b013-f595c04ad087",
   "metadata": {},
   "source": [
    "<img src=\"Captura de pantalla 2023-04-26 185950.png\">"
   ]
  },
  {
   "cell_type": "markdown",
   "id": "4bfee6de-2117-42cd-acf5-24639878b109",
   "metadata": {},
   "source": [
    "## Seccion de debate y recomendaciones"
   ]
  },
  {
   "cell_type": "markdown",
   "id": "8669e548-f97b-4fe4-a41b-5ecfb339c58b",
   "metadata": {},
   "source": [
    "El engfoque utilizado en este proyecto tiene varias ventajas, como la simplificacion y eficiencia del algoritmo de k-means y la presicion de los datos de la API de Foursquare.\n",
    "Sin embargo , tambien hay algunas  limitantes, como la sensibilida del algoritmo, la seleccion inicial de los centroides asi como la fatal de consideracion de caracteristicas adicionales de los lugares, como la popularida del establecimiento, las reseñas ademas limitaciones propias de la API como son la cantida dde resultados e incluso en el caso de este pais la fata de lugares que existen en este pais pero que no aparecen en la base de datos de la API\n"
   ]
  },
  {
   "cell_type": "markdown",
   "id": "d7a9cb27-3abe-4d45-baae-a50d097af0ea",
   "metadata": {},
   "source": [
    "Estos resultados podrian servir para que entidades gubernamebtales o empresas e incluso individuos puedan tomar decisiones mas acertadas a la hora de  ontar algun negocio en esta area o impulsar politicas publicas comerciales o turisticas en el area "
   ]
  },
  {
   "cell_type": "markdown",
   "id": "c9134b53-af37-469b-acd8-aa799b6c245d",
   "metadata": {},
   "source": [
    "## Conclusiones"
   ]
  },
  {
   "cell_type": "markdown",
   "id": "799ce17c-4cc5-4088-b501-2690061553d3",
   "metadata": {},
   "source": [
    "En conclusion en este proyecto se proporciona una vision general de como se distribuyen los lugares y/o negocios en los municipios del Area Metropolitana  de San Salvador y como se pueden agrupar utilizando el algoritmo de clusterin k-means, si bien el ananlisis se usa para identificar areas con una alta taza de concentracion de lugares y el tipo de lugares que se concentra en cada centro urbano, es importate tener en cuenta las limitaciones de este analisis y considerar la posobilidad de utilizar enfoques complementarios que incorporen mas informacion acera de otros indicadores socioeconomicos asi como otros metodos y tecnicas de aprendizaje automatico para obtener una comprension mas completa del entorno de esta ciudad.\n"
   ]
  }
 ],
 "metadata": {
  "kernelspec": {
   "display_name": "Python",
   "language": "python",
   "name": "conda-env-python-py"
  },
  "language_info": {
   "codemirror_mode": {
    "name": "ipython",
    "version": 3
   },
   "file_extension": ".py",
   "mimetype": "text/x-python",
   "name": "python",
   "nbconvert_exporter": "python",
   "pygments_lexer": "ipython3",
   "version": "3.7.12"
  }
 },
 "nbformat": 4,
 "nbformat_minor": 5
}
