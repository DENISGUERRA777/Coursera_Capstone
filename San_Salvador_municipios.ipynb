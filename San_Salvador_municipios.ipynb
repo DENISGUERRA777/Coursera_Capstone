{
 "cells": [
  {
   "cell_type": "markdown",
   "id": "937b5d8d-f79c-40c8-b390-c2df6dc7e647",
   "metadata": {},
   "source": [
    "<h1 align=center><font size = 5>Segmentacion y Agrupacion de Municipios del AMSS</font></h1>\n"
   ]
  },
  {
   "cell_type": "markdown",
   "id": "eef5efba-0008-4be1-b0d4-96aeb4635e80",
   "metadata": {},
   "source": [
    "## Seccion I: Analisis del problema y antecedentes\n"
   ]
  },
  {
   "cell_type": "markdown",
   "id": "e3c4d1a2-0fa6-4721-bfc1-0603c647aca8",
   "metadata": {},
   "source": [
    "Descripción del problema y antecedentes:\n",
    "El área metropolitana de San Salvador, capital de El Salvador, es una zona altamente poblada y compleja desde el punto de vista social, económico y geográfico. En esta área conviven 14 municipios con características y necesidades distintas, lo que dificulta la toma de decisiones por parte de las autoridades y la identificación de problemáticas comunes.\n",
    "\n",
    "En este contexto, el objetivo de este proyecto es agrupar y segmentar los municipios del área metropolitana de San Salvador con el fin de identificar patrones y tendencias relevantes que permitan mejorar la comprensión de la dinámica de la zona y la toma de decisiones.\n",
    "\n",
    "En términos de antecedentes, existen diversos trabajos previos relacionados con la agrupación y segmentación de municipios en otras partes del mundo. Por ejemplo, en México se ha utilizado el análisis de conglomerados para identificar grupos de municipios con características similares en términos de indicadores socioeconómicos y de salud. En Colombia se ha utilizado el análisis de componentes principales para identificar factores clave que explican la variabilidad entre los municipios en términos de desarrollo humano."
   ]
  },
  {
   "cell_type": "markdown",
   "id": "144c5002-b95f-40c6-bbfb-fbfafcf87850",
   "metadata": {},
   "source": [
    "## seccion II: Descripción de los datos y su uso en el proyecto"
   ]
  },
  {
   "cell_type": "markdown",
   "id": "24b5efa7-f7d4-45a6-939f-f231071088bc",
   "metadata": {},
   "source": [
    "Los datos utilizados en este proyecto provienen de diversas fuentes, como datos geograficos de la api de FOURSQUARE, entre otras. Estos datos incluyen variables como locales comerciales, centros turisticos, el nivel socioeconómico, la oferta de servicios públicos, entre otras.\n",
    "\n",
    "Para utilizar estos datos en el proyecto, se realizará un proceso de limpieza y procesamiento para asegurar su calidad y consistencia. Luego, se aplicarán técnicas de minería de datos y aprendizaje automático para identificar patrones y tendencias entre los municipios y agruparlos en función de variables relevantes.\n",
    "\n",
    "Los resultados obtenidos permitirán a los tomadores de decisiones tener una mejor comprensión de la dinámica del área metropolitana de San Salvador y tomar decisiones más informadas en cuanto a la asignación de recursos y políticas públicas."
   ]
  },
  {
   "cell_type": "code",
   "execution_count": null,
   "id": "bf77ba21-3f00-46a8-9e38-4e030c3b5209",
   "metadata": {},
   "outputs": [],
   "source": []
  }
 ],
 "metadata": {
  "kernelspec": {
   "display_name": "Python",
   "language": "python",
   "name": "conda-env-python-py"
  },
  "language_info": {
   "codemirror_mode": {
    "name": "ipython",
    "version": 3
   },
   "file_extension": ".py",
   "mimetype": "text/x-python",
   "name": "python",
   "nbconvert_exporter": "python",
   "pygments_lexer": "ipython3",
   "version": "3.7.12"
  }
 },
 "nbformat": 4,
 "nbformat_minor": 5
}
